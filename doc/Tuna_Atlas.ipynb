{
 "cells": [
  {
   "cell_type": "markdown",
   "metadata": {},
   "source": [
    "# Setting environment with required packages"
   ]
  },
  {
   "cell_type": "code",
   "execution_count": 6,
   "metadata": {},
   "outputs": [
    {
     "name": "stderr",
     "output_type": "stream",
     "text": [
      "Loading required package: remotes\n",
      "Downloading GitHub repo eblondel/geoflow@master\n"
     ]
    },
    {
     "name": "stdout",
     "output_type": "stream",
     "text": [
      "DBI         (1.0.0   -> 1.1.0   ) [CRAN]\n",
      "RPostgreSQL (NA      -> 0.6-2   ) [CRAN]\n",
      "RSQLite     (2.1.2   -> 2.2.0   ) [CRAN]\n",
      "sp          (NA      -> 1.4-1   ) [CRAN]\n",
      "sf          (NA      -> 0.9-0   ) [CRAN]\n",
      "rgdal       (NA      -> 1.4-8   ) [CRAN]\n",
      "rgeos       (NA      -> 0.5-2   ) [CRAN]\n",
      "geosapi     (NA      -> 0.4-1   ) [CRAN]\n",
      "geonapi     (NA      -> 0.3-1   ) [CRAN]\n",
      "geometa     (NA      -> 0.6-1   ) [CRAN]\n",
      "ows4R       (NA      -> 0.1-4   ) [CRAN]\n",
      "zen4R       (NA      -> 0.3     ) [CRAN]\n",
      "R6          (2.4.0   -> 2.4.1   ) [CRAN]\n",
      "jsonlite    (1.6     -> 1.6.1   ) [CRAN]\n",
      "xml2        (1.2.2   -> 1.3.0   ) [CRAN]\n",
      "plyr        (1.8.4   -> 1.8.6   ) [CRAN]\n",
      "googledrive (NA      -> 1.0.0   ) [CRAN]\n",
      "blob        (1.2.0   -> 1.2.1   ) [CRAN]\n",
      "pkgconfig   (2.0.2   -> 2.0.3   ) [CRAN]\n",
      "Rcpp        (1.0.2   -> 1.0.4   ) [CRAN]\n",
      "BH          (NA      -> 1.72.0-3) [CRAN]\n",
      "classInt    (NA      -> 0.4-2   ) [CRAN]\n",
      "units       (NA      -> 0.6-6   ) [CRAN]\n",
      "XML         (NA      -> 3.99-0.3) [CRAN]\n",
      "rvest       (0.3.4   -> 0.3.5   ) [CRAN]\n",
      "tibble      (2.1.3   -> 3.0.0   ) [CRAN]\n",
      "hms         (0.5.1   -> 0.5.3   ) [CRAN]\n",
      "curl        (4.0     -> 4.3     ) [CRAN]\n",
      "gargle      (NA      -> 0.4.0   ) [CRAN]\n",
      "glue        (1.3.1   -> 1.3.2   ) [CRAN]\n",
      "purrr       (0.3.2   -> 0.3.3   ) [CRAN]\n",
      "rlang       (0.4.0   -> 0.4.5   ) [CRAN]\n",
      "uuid        (0.1-2   -> 0.1-4   ) [CRAN]\n",
      "bit         (1.1-14  -> 1.1-15.2) [CRAN]\n",
      "vctrs       (0.2.0   -> 0.2.4   ) [CRAN]\n",
      "ellipsis    (0.2.0.1 -> 0.3.0   ) [CRAN]\n",
      "digest      (0.6.20  -> 0.6.25  ) [CRAN]\n",
      "e1071       (NA      -> 1.7-3   ) [CRAN]\n",
      "KernSmooth  (2.23-15 -> 2.23-16 ) [CRAN]\n",
      "mime        (0.7     -> 0.9     ) [CRAN]\n",
      "selectr     (0.4-1   -> 0.4-2   ) [CRAN]\n",
      "stringi     (1.4.3   -> 1.4.6   ) [CRAN]\n",
      "cli         (1.1.0   -> 2.0.2   ) [CRAN]\n",
      "fansi       (0.4.0   -> 0.4.1   ) [CRAN]\n",
      "lifecycle   (NA      -> 0.2.0   ) [CRAN]\n",
      "pillar      (1.4.2   -> 1.4.3   ) [CRAN]\n",
      "prettyunits (1.0.2   -> 1.1.1   ) [CRAN]\n",
      "fs          (1.3.1   -> 1.4.0   ) [CRAN]\n"
     ]
    },
    {
     "name": "stderr",
     "output_type": "stream",
     "text": [
      "Installing 48 packages: DBI, RPostgreSQL, RSQLite, sp, sf, rgdal, rgeos, geosapi, geonapi, geometa, ows4R, zen4R, R6, jsonlite, xml2, plyr, googledrive, blob, pkgconfig, Rcpp, BH, classInt, units, XML, rvest, tibble, hms, curl, gargle, glue, purrr, rlang, uuid, bit, vctrs, ellipsis, digest, e1071, KernSmooth, mime, selectr, stringi, cli, fansi, lifecycle, pillar, prettyunits, fs\n"
     ]
    },
    {
     "ename": "ERROR",
     "evalue": "Error: Failed to install 'geoflow' from GitHub:\n  (converted from warning) installation of package ‘RPostgreSQL’ had non-zero exit status\n",
     "output_type": "error",
     "traceback": [
      "Error: Failed to install 'geoflow' from GitHub:\n  (converted from warning) installation of package ‘RPostgreSQL’ had non-zero exit status\nTraceback:\n",
      "1. install_github(\"eblondel/geoflow\")",
      "2. install_remotes(remotes, auth_token = auth_token, host = host, \n .     dependencies = dependencies, upgrade = upgrade, force = force, \n .     quiet = quiet, build = build, build_opts = build_opts, build_manual = build_manual, \n .     build_vignettes = build_vignettes, repos = repos, type = type, \n .     ...)",
      "3. tryCatch(res[[i]] <- install_remote(remotes[[i]], ...), error = function(e) {\n .     stop(remote_install_error(remotes[[i]], e))\n . })",
      "4. tryCatchList(expr, classes, parentenv, handlers)",
      "5. tryCatchOne(expr, names, parentenv, handlers[[1L]])",
      "6. value[[3L]](cond)"
     ]
    }
   ],
   "source": [
    "require(\"remotes\")\n",
    "#install_github(\"eblondel/geoflow\", dependencies = c(\"Depends\", \"Imports\"))\n",
    "install_github(\"eblondel/geoflow\")"
   ]
  },
  {
   "cell_type": "code",
   "execution_count": 1,
   "metadata": {},
   "outputs": [
    {
     "name": "stderr",
     "output_type": "stream",
     "text": [
      "Updating HTML index of packages in '.Library'\n",
      "Making 'packages.html' ... done\n"
     ]
    }
   ],
   "source": [
    "#install.packages(c(\"RSQLite\",\"sf\",\"rgeos\",\"geosapi\",\"geonapi\",\"geometa\",\"ows4R\",\"zen4R\",\"xml2\",\"plyr\",\"googledrive\",\"blob\",\"classInt\",\"units\",\"rvest\",\"tibble\",\"hms\",\"gargle\",\"purrr\",\"vctrs\",\"ellipsis\",\"selectr\",\"cli\",\"lifecycle\",\"pillar\"))\n",
    "install.packages(\"gsheet\")\n",
    "# \"rgdal\"\n",
    "#setwd()\n",
    "#config=initWorkflow(\"~/workspace/geoflow-tunaatlas/tunaatlas_qa_dbmodel+codelists_julien.json\")"
   ]
  },
  {
   "cell_type": "markdown",
   "metadata": {},
   "source": [
    "## Load codelists, mappings & RFMOS datasets"
   ]
  },
  {
   "cell_type": "code",
   "execution_count": null,
   "metadata": {},
   "outputs": [],
   "source": [
    "#config=initWorkflow(\"~/workspace/geoflow-tunaatlas/tunaatlas_qa_dbmodel+codelists_julien.json\")\n",
    "executeWorkflow(\"~/workspace/geoflow-tunaatlas/tunaatlas_qa_dbmodel+codelists_julien.json\")\n",
    "executeWorkflow(\"~/workspace/geoflow-tunaatlas/tunaatlas_qa_mappings_julien.json\")\n",
    "executeWorkflow(\"~/workspace/geoflow-tunaatlas/tunaatlas_qa_datasets_julien.json\")"
   ]
  },
  {
   "cell_type": "markdown",
   "metadata": {},
   "source": [
    "## Generation of global datasets with various levels of processing: Levels 0, 1, 2"
   ]
  },
  {
   "cell_type": "code",
   "execution_count": null,
   "metadata": {},
   "outputs": [],
   "source": [
    "executeWorkflow(\"~/workspace/geoflow-tunaatlas/tunaatlas_qa_global_datasets_julien.json\")"
   ]
  },
  {
   "cell_type": "markdown",
   "metadata": {},
   "source": [
    "## Generate data dictionary of the SQL data warehouse"
   ]
  },
  {
   "cell_type": "code",
   "execution_count": 5,
   "metadata": {},
   "outputs": [
    {
     "data": {
      "text/html": [
       "<table>\n",
       "<caption>A data.frame: 6 × 9</caption>\n",
       "<thead>\n",
       "\t<tr><th scope=col>TableType</th><th scope=col>SchemaName</th><th scope=col>FeatureType</th><th scope=col>MemberCode</th><th scope=col>MemberType</th><th scope=col>Definition</th><th scope=col>attribute_valuetype</th><th scope=col>max_length</th><th scope=col>is_nullable</th></tr>\n",
       "\t<tr><th scope=col>&lt;chr&gt;</th><th scope=col>&lt;chr&gt;</th><th scope=col>&lt;chr&gt;</th><th scope=col>&lt;chr&gt;</th><th scope=col>&lt;chr&gt;</th><th scope=col>&lt;chr&gt;</th><th scope=col>&lt;chr&gt;</th><th scope=col>&lt;dbl&gt;</th><th scope=col>&lt;chr&gt;</th></tr>\n",
       "</thead>\n",
       "<tbody>\n",
       "\t<tr><td>materialized view</td><td>fact_tables</td><td>atlantic_catch_1deg_1m_ps_iccat_level0__byschool</td><td>catchtype      </td><td>attribute</td><td>Fate of the catch, i.e. landed, discarded, unknown. Given the nature of the data, only landing data are currently available in SARDARA, with a very few exceptions of discarded fishes for ICCAT. This table is a dimension of the data warehouse: a list of codes which gives the context of the values stored in the fact table.                                                                                                                                                                                                                                                                                           </td><td>NA</td><td>NA</td><td>NA</td></tr>\n",
       "\t<tr><td>materialized view</td><td>fact_tables</td><td>atlantic_catch_1deg_1m_ps_iccat_level0__byschool</td><td>catchtype_label</td><td>attribute</td><td>catchtype_label.                                                                                                                                                                                                                                                                                                                                                                                                                                                                                                                                                                                                             </td><td>NA</td><td>NA</td><td>NA</td></tr>\n",
       "\t<tr><td>materialized view</td><td>fact_tables</td><td>atlantic_catch_1deg_1m_ps_iccat_level0__byschool</td><td>flag           </td><td>attribute</td><td>Flagging country of the fishing vessels. Flagging country of fishing vessel OR The flag State is the state under whose laws the fishing vessel is registered or licensed. It has responsibility under international law for controlling the fishing activities of a vessel, no matter where the vessel operates. Data are generally reported by country but some data can be reported at a sub-level, e.g. catch from Reunion Island longliners are reported under the REU flag and not FRA. This table is a dimension of the data warehouse: a list of codes which gives the context of the values stored in the fact table.</td><td>NA</td><td>NA</td><td>NA</td></tr>\n",
       "\t<tr><td>materialized view</td><td>fact_tables</td><td>atlantic_catch_1deg_1m_ps_iccat_level0__byschool</td><td>flag_label     </td><td>attribute</td><td>flag_label.                                                                                                                                                                                                                                                                                                                                                                                                                                                                                                                                                                                                                  </td><td>NA</td><td>NA</td><td>NA</td></tr>\n",
       "\t<tr><td>materialized view</td><td>fact_tables</td><td>atlantic_catch_1deg_1m_ps_iccat_level0__byschool</td><td>gear           </td><td>attribute</td><td>Fishing gear used. Fishing gear are grouped by categories, in accordance with the International Standard Statitical Classficiation of Fishing Gear (ISSCFG) endorsed by the CWP. The number of gears varies a lot depending on the RFMOs. ICCAT, for instance, has around 60 gears while IATTC has 10 gears. This table is a dimension of the data warehouse: a list of codes which gives the context of the values stored in the fact table.                                                                                                                                                                                </td><td>NA</td><td>NA</td><td>NA</td></tr>\n",
       "\t<tr><td>materialized view</td><td>fact_tables</td><td>atlantic_catch_1deg_1m_ps_iccat_level0__byschool</td><td>gear_group     </td><td>attribute</td><td>Group of fishing gears.                                                                                                                                                                                                                                                                                                                                                                                                                                                                                                                                                                                                      </td><td>NA</td><td>NA</td><td>NA</td></tr>\n",
       "</tbody>\n",
       "</table>\n"
      ],
      "text/latex": [
       "A data.frame: 6 × 9\n",
       "\\begin{tabular}{r|lllllllll}\n",
       " TableType & SchemaName & FeatureType & MemberCode & MemberType & Definition & attribute\\_valuetype & max\\_length & is\\_nullable\\\\\n",
       " <chr> & <chr> & <chr> & <chr> & <chr> & <chr> & <chr> & <dbl> & <chr>\\\\\n",
       "\\hline\n",
       "\t materialized view & fact\\_tables & atlantic\\_catch\\_1deg\\_1m\\_ps\\_iccat\\_level0\\_\\_byschool & catchtype       & attribute & Fate of the catch, i.e. landed, discarded, unknown. Given the nature of the data, only landing data are currently available in SARDARA, with a very few exceptions of discarded fishes for ICCAT. This table is a dimension of the data warehouse: a list of codes which gives the context of the values stored in the fact table.                                                                                                                                                                                                                                                                                            & NA & NA & NA\\\\\n",
       "\t materialized view & fact\\_tables & atlantic\\_catch\\_1deg\\_1m\\_ps\\_iccat\\_level0\\_\\_byschool & catchtype\\_label & attribute & catchtype\\_label.                                                                                                                                                                                                                                                                                                                                                                                                                                                                                                                                                                                                              & NA & NA & NA\\\\\n",
       "\t materialized view & fact\\_tables & atlantic\\_catch\\_1deg\\_1m\\_ps\\_iccat\\_level0\\_\\_byschool & flag            & attribute & Flagging country of the fishing vessels. Flagging country of fishing vessel OR The flag State is the state under whose laws the fishing vessel is registered or licensed. It has responsibility under international law for controlling the fishing activities of a vessel, no matter where the vessel operates. Data are generally reported by country but some data can be reported at a sub-level, e.g. catch from Reunion Island longliners are reported under the REU flag and not FRA. This table is a dimension of the data warehouse: a list of codes which gives the context of the values stored in the fact table. & NA & NA & NA\\\\\n",
       "\t materialized view & fact\\_tables & atlantic\\_catch\\_1deg\\_1m\\_ps\\_iccat\\_level0\\_\\_byschool & flag\\_label      & attribute & flag\\_label.                                                                                                                                                                                                                                                                                                                                                                                                                                                                                                                                                                                                                   & NA & NA & NA\\\\\n",
       "\t materialized view & fact\\_tables & atlantic\\_catch\\_1deg\\_1m\\_ps\\_iccat\\_level0\\_\\_byschool & gear            & attribute & Fishing gear used. Fishing gear are grouped by categories, in accordance with the International Standard Statitical Classficiation of Fishing Gear (ISSCFG) endorsed by the CWP. The number of gears varies a lot depending on the RFMOs. ICCAT, for instance, has around 60 gears while IATTC has 10 gears. This table is a dimension of the data warehouse: a list of codes which gives the context of the values stored in the fact table.                                                                                                                                                                                 & NA & NA & NA\\\\\n",
       "\t materialized view & fact\\_tables & atlantic\\_catch\\_1deg\\_1m\\_ps\\_iccat\\_level0\\_\\_byschool & gear\\_group      & attribute & Group of fishing gears.                                                                                                                                                                                                                                                                                                                                                                                                                                                                                                                                                                                                       & NA & NA & NA\\\\\n",
       "\\end{tabular}\n"
      ],
      "text/markdown": [
       "\n",
       "A data.frame: 6 × 9\n",
       "\n",
       "| TableType &lt;chr&gt; | SchemaName &lt;chr&gt; | FeatureType &lt;chr&gt; | MemberCode &lt;chr&gt; | MemberType &lt;chr&gt; | Definition &lt;chr&gt; | attribute_valuetype &lt;chr&gt; | max_length &lt;dbl&gt; | is_nullable &lt;chr&gt; |\n",
       "|---|---|---|---|---|---|---|---|---|\n",
       "| materialized view | fact_tables | atlantic_catch_1deg_1m_ps_iccat_level0__byschool | catchtype       | attribute | Fate of the catch, i.e. landed, discarded, unknown. Given the nature of the data, only landing data are currently available in SARDARA, with a very few exceptions of discarded fishes for ICCAT. This table is a dimension of the data warehouse: a list of codes which gives the context of the values stored in the fact table.                                                                                                                                                                                                                                                                                            | NA | NA | NA |\n",
       "| materialized view | fact_tables | atlantic_catch_1deg_1m_ps_iccat_level0__byschool | catchtype_label | attribute | catchtype_label.                                                                                                                                                                                                                                                                                                                                                                                                                                                                                                                                                                                                              | NA | NA | NA |\n",
       "| materialized view | fact_tables | atlantic_catch_1deg_1m_ps_iccat_level0__byschool | flag            | attribute | Flagging country of the fishing vessels. Flagging country of fishing vessel OR The flag State is the state under whose laws the fishing vessel is registered or licensed. It has responsibility under international law for controlling the fishing activities of a vessel, no matter where the vessel operates. Data are generally reported by country but some data can be reported at a sub-level, e.g. catch from Reunion Island longliners are reported under the REU flag and not FRA. This table is a dimension of the data warehouse: a list of codes which gives the context of the values stored in the fact table. | NA | NA | NA |\n",
       "| materialized view | fact_tables | atlantic_catch_1deg_1m_ps_iccat_level0__byschool | flag_label      | attribute | flag_label.                                                                                                                                                                                                                                                                                                                                                                                                                                                                                                                                                                                                                   | NA | NA | NA |\n",
       "| materialized view | fact_tables | atlantic_catch_1deg_1m_ps_iccat_level0__byschool | gear            | attribute | Fishing gear used. Fishing gear are grouped by categories, in accordance with the International Standard Statitical Classficiation of Fishing Gear (ISSCFG) endorsed by the CWP. The number of gears varies a lot depending on the RFMOs. ICCAT, for instance, has around 60 gears while IATTC has 10 gears. This table is a dimension of the data warehouse: a list of codes which gives the context of the values stored in the fact table.                                                                                                                                                                                 | NA | NA | NA |\n",
       "| materialized view | fact_tables | atlantic_catch_1deg_1m_ps_iccat_level0__byschool | gear_group      | attribute | Group of fishing gears.                                                                                                                                                                                                                                                                                                                                                                                                                                                                                                                                                                                                       | NA | NA | NA |\n",
       "\n"
      ],
      "text/plain": [
       "  TableType         SchemaName \n",
       "1 materialized view fact_tables\n",
       "2 materialized view fact_tables\n",
       "3 materialized view fact_tables\n",
       "4 materialized view fact_tables\n",
       "5 materialized view fact_tables\n",
       "6 materialized view fact_tables\n",
       "  FeatureType                                      MemberCode      MemberType\n",
       "1 atlantic_catch_1deg_1m_ps_iccat_level0__byschool catchtype       attribute \n",
       "2 atlantic_catch_1deg_1m_ps_iccat_level0__byschool catchtype_label attribute \n",
       "3 atlantic_catch_1deg_1m_ps_iccat_level0__byschool flag            attribute \n",
       "4 atlantic_catch_1deg_1m_ps_iccat_level0__byschool flag_label      attribute \n",
       "5 atlantic_catch_1deg_1m_ps_iccat_level0__byschool gear            attribute \n",
       "6 atlantic_catch_1deg_1m_ps_iccat_level0__byschool gear_group      attribute \n",
       "  Definition                                                                                                                                                                                                                                                                                                                                                                                                                                                                                                                                                                                                                   \n",
       "1 Fate of the catch, i.e. landed, discarded, unknown. Given the nature of the data, only landing data are currently available in SARDARA, with a very few exceptions of discarded fishes for ICCAT. This table is a dimension of the data warehouse: a list of codes which gives the context of the values stored in the fact table.                                                                                                                                                                                                                                                                                           \n",
       "2 catchtype_label.                                                                                                                                                                                                                                                                                                                                                                                                                                                                                                                                                                                                             \n",
       "3 Flagging country of the fishing vessels. Flagging country of fishing vessel OR The flag State is the state under whose laws the fishing vessel is registered or licensed. It has responsibility under international law for controlling the fishing activities of a vessel, no matter where the vessel operates. Data are generally reported by country but some data can be reported at a sub-level, e.g. catch from Reunion Island longliners are reported under the REU flag and not FRA. This table is a dimension of the data warehouse: a list of codes which gives the context of the values stored in the fact table.\n",
       "4 flag_label.                                                                                                                                                                                                                                                                                                                                                                                                                                                                                                                                                                                                                  \n",
       "5 Fishing gear used. Fishing gear are grouped by categories, in accordance with the International Standard Statitical Classficiation of Fishing Gear (ISSCFG) endorsed by the CWP. The number of gears varies a lot depending on the RFMOs. ICCAT, for instance, has around 60 gears while IATTC has 10 gears. This table is a dimension of the data warehouse: a list of codes which gives the context of the values stored in the fact table.                                                                                                                                                                                \n",
       "6 Group of fishing gears.                                                                                                                                                                                                                                                                                                                                                                                                                                                                                                                                                                                                      \n",
       "  attribute_valuetype max_length is_nullable\n",
       "1 NA                  NA         NA         \n",
       "2 NA                  NA         NA         \n",
       "3 NA                  NA         NA         \n",
       "4 NA                  NA         NA         \n",
       "5 NA                  NA         NA         \n",
       "6 NA                  NA         NA         "
      ]
     },
     "metadata": {},
     "output_type": "display_data"
    }
   ],
   "source": [
    "data_dictionary <- \"https://docs.google.com/spreadsheets/d/13cPY2AmGrCXidbkIY-CRnOhAZB8ebnyrXLUgxG_NSeA/edit?usp=sharing\"\n",
    "feature_catalog <- as.data.frame(gsheet::gsheet2tbl(data_dictionary))\n",
    "head(feature_catalog)"
   ]
  }
 ],
 "metadata": {
  "kernelspec": {
   "display_name": "R",
   "language": "R",
   "name": "ir"
  },
  "language_info": {
   "codemirror_mode": "r",
   "file_extension": ".r",
   "mimetype": "text/x-r-source",
   "name": "R",
   "pygments_lexer": "r",
   "version": "3.6.1"
  }
 },
 "nbformat": 4,
 "nbformat_minor": 4
}

